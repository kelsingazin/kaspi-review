{
 "cells": [
  {
   "cell_type": "code",
   "execution_count": 20,
   "metadata": {},
   "outputs": [],
   "source": [
    "import pandas as pd\n",
    "import numpy as np\n",
    "import matplotlib.pyplot as plt\n",
    "import seaborn as sns\n",
    "import re\n",
    "import nltk\n",
    "from nltk.stem.snowball import SnowballStemmer\n",
    "from sklearn.model_selection import train_test_split, RandomizedSearchCV, GridSearchCV\n",
    "from sklearn.feature_extraction.text import CountVectorizer, TfidfVectorizer\n",
    "from sklearn.linear_model import LogisticRegression\n",
    "from sklearn.metrics import accuracy_score, confusion_matrix, classification_report\n",
    "from sklearn.pipeline import Pipeline\n",
    "from sklearn.svm import LinearSVC\n",
    "from sklearn import metrics"
   ]
  },
  {
   "cell_type": "code",
   "execution_count": 21,
   "metadata": {},
   "outputs": [
    {
     "name": "stderr",
     "output_type": "stream",
     "text": [
      "[nltk_data] Downloading package stopwords to\n",
      "[nltk_data]     C:\\Users\\Yerassyl\\AppData\\Roaming\\nltk_data...\n",
      "[nltk_data]   Package stopwords is already up-to-date!\n"
     ]
    }
   ],
   "source": [
    "import nltk\n",
    "nltk.download(\"stopwords\")\n",
    "from nltk.corpus import stopwords\n",
    "from pymystem3 import Mystem\n",
    "from string import punctuation"
   ]
  },
  {
   "cell_type": "code",
   "execution_count": 22,
   "metadata": {},
   "outputs": [],
   "source": [
    "products = pd.read_csv('kaspi.csv',sep=';',header=0)"
   ]
  },
  {
   "cell_type": "code",
   "execution_count": 23,
   "metadata": {},
   "outputs": [],
   "source": [
    "products = products.replace(np.nan, '', regex=True)"
   ]
  },
  {
   "cell_type": "code",
   "execution_count": 24,
   "metadata": {},
   "outputs": [
    {
     "data": {
      "text/html": [
       "<div>\n",
       "<style scoped>\n",
       "    .dataframe tbody tr th:only-of-type {\n",
       "        vertical-align: middle;\n",
       "    }\n",
       "\n",
       "    .dataframe tbody tr th {\n",
       "        vertical-align: top;\n",
       "    }\n",
       "\n",
       "    .dataframe thead th {\n",
       "        text-align: right;\n",
       "    }\n",
       "</style>\n",
       "<table border=\"1\" class=\"dataframe\">\n",
       "  <thead>\n",
       "    <tr style=\"text-align: right;\">\n",
       "      <th></th>\n",
       "      <th>Name</th>\n",
       "      <th>Rating</th>\n",
       "      <th>Positive</th>\n",
       "      <th>Negative</th>\n",
       "      <th>Comment</th>\n",
       "    </tr>\n",
       "  </thead>\n",
       "  <tbody>\n",
       "    <tr>\n",
       "      <th>11636</th>\n",
       "      <td>Браслет Xiaomi Mi Band 3 черный</td>\n",
       "      <td>3</td>\n",
       "      <td>Качество хорошее, непромокаемый</td>\n",
       "      <td>Неудобный</td>\n",
       "      <td>В остальном всё хорошо</td>\n",
       "    </tr>\n",
       "    <tr>\n",
       "      <th>11637</th>\n",
       "      <td>Браслет Xiaomi Mi Band 3 черный</td>\n",
       "      <td>3</td>\n",
       "      <td></td>\n",
       "      <td>Уведомления мессенджеров не выходят. Ватсап, т...</td>\n",
       "      <td></td>\n",
       "    </tr>\n",
       "    <tr>\n",
       "      <th>11638</th>\n",
       "      <td>Браслет Xiaomi Mi Band 3 черный</td>\n",
       "      <td>2</td>\n",
       "      <td></td>\n",
       "      <td>Не понравился то, что невозможно подключить к ...</td>\n",
       "      <td></td>\n",
       "    </tr>\n",
       "  </tbody>\n",
       "</table>\n",
       "</div>"
      ],
      "text/plain": [
       "                                  Name  Rating  \\\n",
       "11636  Браслет Xiaomi Mi Band 3 черный       3   \n",
       "11637  Браслет Xiaomi Mi Band 3 черный       3   \n",
       "11638  Браслет Xiaomi Mi Band 3 черный       2   \n",
       "\n",
       "                              Positive  \\\n",
       "11636  Качество хорошее, непромокаемый   \n",
       "11637                                    \n",
       "11638                                    \n",
       "\n",
       "                                                Negative  \\\n",
       "11636                                          Неудобный   \n",
       "11637  Уведомления мессенджеров не выходят. Ватсап, т...   \n",
       "11638  Не понравился то, что невозможно подключить к ...   \n",
       "\n",
       "                      Comment  \n",
       "11636  В остальном всё хорошо  \n",
       "11637                          \n",
       "11638                          "
      ]
     },
     "execution_count": 24,
     "metadata": {},
     "output_type": "execute_result"
    }
   ],
   "source": [
    "products.tail(3)"
   ]
  },
  {
   "cell_type": "code",
   "execution_count": 25,
   "metadata": {},
   "outputs": [],
   "source": [
    "for i in range(0,len(products)):\n",
    "    if type(products.iloc[i]['Positive']) != str:\n",
    "        products.iloc[i]['Positive'] = str(products.iloc[i]['Positive'])"
   ]
  },
  {
   "cell_type": "code",
   "execution_count": 26,
   "metadata": {},
   "outputs": [],
   "source": [
    "for i in range(0,len(products)):\n",
    "    if type(products.iloc[i]['Negative']) != str:\n",
    "        products.iloc[i]['Negative'] = str(products.iloc[i]['Negative'])"
   ]
  },
  {
   "cell_type": "code",
   "execution_count": 27,
   "metadata": {},
   "outputs": [],
   "source": [
    "for i in range(0,len(products)):\n",
    "    if type(products.iloc[i]['Comment']) != str:\n",
    "        products.iloc[i]['Comment'] = str(products.iloc[i]['Comment'])"
   ]
  },
  {
   "cell_type": "code",
   "execution_count": 28,
   "metadata": {},
   "outputs": [],
   "source": [
    "def combined_features(row):\n",
    "    return row['Positive'] + ' '+ row['Negative'] + ' '+ row['Comment']\n",
    "products['Review'] = products.apply(combined_features, axis=1)"
   ]
  },
  {
   "cell_type": "code",
   "execution_count": 29,
   "metadata": {},
   "outputs": [
    {
     "data": {
      "text/html": [
       "<div>\n",
       "<style scoped>\n",
       "    .dataframe tbody tr th:only-of-type {\n",
       "        vertical-align: middle;\n",
       "    }\n",
       "\n",
       "    .dataframe tbody tr th {\n",
       "        vertical-align: top;\n",
       "    }\n",
       "\n",
       "    .dataframe thead th {\n",
       "        text-align: right;\n",
       "    }\n",
       "</style>\n",
       "<table border=\"1\" class=\"dataframe\">\n",
       "  <thead>\n",
       "    <tr style=\"text-align: right;\">\n",
       "      <th></th>\n",
       "      <th>Name</th>\n",
       "      <th>Rating</th>\n",
       "      <th>Positive</th>\n",
       "      <th>Negative</th>\n",
       "      <th>Comment</th>\n",
       "      <th>Review</th>\n",
       "    </tr>\n",
       "  </thead>\n",
       "  <tbody>\n",
       "    <tr>\n",
       "      <th>0</th>\n",
       "      <td>Смарт-часы Xiaomi Amazfit Bip Red</td>\n",
       "      <td>5</td>\n",
       "      <td>Цена и качество соответствуют! Отличное качест...</td>\n",
       "      <td></td>\n",
       "      <td>Все отлично. Всем рекомендую</td>\n",
       "      <td>Цена и качество соответствуют! Отличное качест...</td>\n",
       "    </tr>\n",
       "    <tr>\n",
       "      <th>1</th>\n",
       "      <td>Смарт-часы Xiaomi Amazfit Bip Red</td>\n",
       "      <td>4</td>\n",
       "      <td>Хорошо держится заряд батареи, уже неделю как ...</td>\n",
       "      <td>Не очень удобный ремешок у часов. Ошиблась при...</td>\n",
       "      <td></td>\n",
       "      <td>Хорошо держится заряд батареи, уже неделю как ...</td>\n",
       "    </tr>\n",
       "    <tr>\n",
       "      <th>2</th>\n",
       "      <td>Смарт-часы Xiaomi Amazfit Bip Red</td>\n",
       "      <td>5</td>\n",
       "      <td>Красивый, удобный, информативный, после подклю...</td>\n",
       "      <td>Нельзя управлять музыкой, gps немного врет - к...</td>\n",
       "      <td>В целом всем доволен. На руке стильно сидят, р...</td>\n",
       "      <td>Красивый, удобный, информативный, после подклю...</td>\n",
       "    </tr>\n",
       "    <tr>\n",
       "      <th>3</th>\n",
       "      <td>Смарт-часы Xiaomi Amazfit Bip Red</td>\n",
       "      <td>5</td>\n",
       "      <td></td>\n",
       "      <td></td>\n",
       "      <td>Часы реальные. Рекомендую всем.</td>\n",
       "      <td>Часы реальные. Рекомендую всем.</td>\n",
       "    </tr>\n",
       "    <tr>\n",
       "      <th>4</th>\n",
       "      <td>Смарт-часы Xiaomi Amazfit Bip Red</td>\n",
       "      <td>5</td>\n",
       "      <td>Брал в подарок, обладательница часов довольна!</td>\n",
       "      <td></td>\n",
       "      <td>Полезный и удобный аксессуар, рекомендую!</td>\n",
       "      <td>Брал в подарок, обладательница часов довольна!...</td>\n",
       "    </tr>\n",
       "  </tbody>\n",
       "</table>\n",
       "</div>"
      ],
      "text/plain": [
       "                                Name  Rating  \\\n",
       "0  Смарт-часы Xiaomi Amazfit Bip Red       5   \n",
       "1  Смарт-часы Xiaomi Amazfit Bip Red       4   \n",
       "2  Смарт-часы Xiaomi Amazfit Bip Red       5   \n",
       "3  Смарт-часы Xiaomi Amazfit Bip Red       5   \n",
       "4  Смарт-часы Xiaomi Amazfit Bip Red       5   \n",
       "\n",
       "                                            Positive  \\\n",
       "0  Цена и качество соответствуют! Отличное качест...   \n",
       "1  Хорошо держится заряд батареи, уже неделю как ...   \n",
       "2  Красивый, удобный, информативный, после подклю...   \n",
       "3                                                      \n",
       "4     Брал в подарок, обладательница часов довольна!   \n",
       "\n",
       "                                            Negative  \\\n",
       "0                                                      \n",
       "1  Не очень удобный ремешок у часов. Ошиблась при...   \n",
       "2  Нельзя управлять музыкой, gps немного врет - к...   \n",
       "3                                                      \n",
       "4                                                      \n",
       "\n",
       "                                             Comment  \\\n",
       "0                       Все отлично. Всем рекомендую   \n",
       "1                                                      \n",
       "2  В целом всем доволен. На руке стильно сидят, р...   \n",
       "3                    Часы реальные. Рекомендую всем.   \n",
       "4          Полезный и удобный аксессуар, рекомендую!   \n",
       "\n",
       "                                              Review  \n",
       "0  Цена и качество соответствуют! Отличное качест...  \n",
       "1  Хорошо держится заряд батареи, уже неделю как ...  \n",
       "2  Красивый, удобный, информативный, после подклю...  \n",
       "3                    Часы реальные. Рекомендую всем.  \n",
       "4  Брал в подарок, обладательница часов довольна!...  "
      ]
     },
     "execution_count": 29,
     "metadata": {},
     "output_type": "execute_result"
    }
   ],
   "source": [
    "products.head(5)"
   ]
  },
  {
   "cell_type": "code",
   "execution_count": 30,
   "metadata": {},
   "outputs": [],
   "source": [
    "kaspi = products.filter(['Name','Rating','Review'], axis=1)"
   ]
  },
  {
   "cell_type": "code",
   "execution_count": 31,
   "metadata": {},
   "outputs": [
    {
     "data": {
      "text/html": [
       "<div>\n",
       "<style scoped>\n",
       "    .dataframe tbody tr th:only-of-type {\n",
       "        vertical-align: middle;\n",
       "    }\n",
       "\n",
       "    .dataframe tbody tr th {\n",
       "        vertical-align: top;\n",
       "    }\n",
       "\n",
       "    .dataframe thead th {\n",
       "        text-align: right;\n",
       "    }\n",
       "</style>\n",
       "<table border=\"1\" class=\"dataframe\">\n",
       "  <thead>\n",
       "    <tr style=\"text-align: right;\">\n",
       "      <th></th>\n",
       "      <th>Name</th>\n",
       "      <th>Rating</th>\n",
       "      <th>Review</th>\n",
       "    </tr>\n",
       "  </thead>\n",
       "  <tbody>\n",
       "    <tr>\n",
       "      <th>0</th>\n",
       "      <td>Смарт-часы Xiaomi Amazfit Bip Red</td>\n",
       "      <td>5</td>\n",
       "      <td>Цена и качество соответствуют! Отличное качест...</td>\n",
       "    </tr>\n",
       "    <tr>\n",
       "      <th>1</th>\n",
       "      <td>Смарт-часы Xiaomi Amazfit Bip Red</td>\n",
       "      <td>4</td>\n",
       "      <td>Хорошо держится заряд батареи, уже неделю как ...</td>\n",
       "    </tr>\n",
       "    <tr>\n",
       "      <th>2</th>\n",
       "      <td>Смарт-часы Xiaomi Amazfit Bip Red</td>\n",
       "      <td>5</td>\n",
       "      <td>Красивый, удобный, информативный, после подклю...</td>\n",
       "    </tr>\n",
       "    <tr>\n",
       "      <th>3</th>\n",
       "      <td>Смарт-часы Xiaomi Amazfit Bip Red</td>\n",
       "      <td>5</td>\n",
       "      <td>Часы реальные. Рекомендую всем.</td>\n",
       "    </tr>\n",
       "    <tr>\n",
       "      <th>4</th>\n",
       "      <td>Смарт-часы Xiaomi Amazfit Bip Red</td>\n",
       "      <td>5</td>\n",
       "      <td>Брал в подарок, обладательница часов довольна!...</td>\n",
       "    </tr>\n",
       "    <tr>\n",
       "      <th>...</th>\n",
       "      <td>...</td>\n",
       "      <td>...</td>\n",
       "      <td>...</td>\n",
       "    </tr>\n",
       "    <tr>\n",
       "      <th>11634</th>\n",
       "      <td>Браслет Xiaomi Mi Band 3 черный</td>\n",
       "      <td>2</td>\n",
       "      <td>Капсула хорошо зафиксирована в ремешке Сыроват...</td>\n",
       "    </tr>\n",
       "    <tr>\n",
       "      <th>11635</th>\n",
       "      <td>Браслет Xiaomi Mi Band 3 черный</td>\n",
       "      <td>1</td>\n",
       "      <td>Я очень расстроен.</td>\n",
       "    </tr>\n",
       "    <tr>\n",
       "      <th>11636</th>\n",
       "      <td>Браслет Xiaomi Mi Band 3 черный</td>\n",
       "      <td>3</td>\n",
       "      <td>Качество хорошее, непромокаемый Неудобный В ос...</td>\n",
       "    </tr>\n",
       "    <tr>\n",
       "      <th>11637</th>\n",
       "      <td>Браслет Xiaomi Mi Band 3 черный</td>\n",
       "      <td>3</td>\n",
       "      <td>Уведомления мессенджеров не выходят. Ватсап, ...</td>\n",
       "    </tr>\n",
       "    <tr>\n",
       "      <th>11638</th>\n",
       "      <td>Браслет Xiaomi Mi Band 3 черный</td>\n",
       "      <td>2</td>\n",
       "      <td>Не понравился то, что невозможно подключить к...</td>\n",
       "    </tr>\n",
       "  </tbody>\n",
       "</table>\n",
       "<p>11639 rows × 3 columns</p>\n",
       "</div>"
      ],
      "text/plain": [
       "                                    Name  Rating  \\\n",
       "0      Смарт-часы Xiaomi Amazfit Bip Red       5   \n",
       "1      Смарт-часы Xiaomi Amazfit Bip Red       4   \n",
       "2      Смарт-часы Xiaomi Amazfit Bip Red       5   \n",
       "3      Смарт-часы Xiaomi Amazfit Bip Red       5   \n",
       "4      Смарт-часы Xiaomi Amazfit Bip Red       5   \n",
       "...                                  ...     ...   \n",
       "11634    Браслет Xiaomi Mi Band 3 черный       2   \n",
       "11635    Браслет Xiaomi Mi Band 3 черный       1   \n",
       "11636    Браслет Xiaomi Mi Band 3 черный       3   \n",
       "11637    Браслет Xiaomi Mi Band 3 черный       3   \n",
       "11638    Браслет Xiaomi Mi Band 3 черный       2   \n",
       "\n",
       "                                                  Review  \n",
       "0      Цена и качество соответствуют! Отличное качест...  \n",
       "1      Хорошо держится заряд батареи, уже неделю как ...  \n",
       "2      Красивый, удобный, информативный, после подклю...  \n",
       "3                        Часы реальные. Рекомендую всем.  \n",
       "4      Брал в подарок, обладательница часов довольна!...  \n",
       "...                                                  ...  \n",
       "11634  Капсула хорошо зафиксирована в ремешке Сыроват...  \n",
       "11635                                 Я очень расстроен.  \n",
       "11636  Качество хорошее, непромокаемый Неудобный В ос...  \n",
       "11637   Уведомления мессенджеров не выходят. Ватсап, ...  \n",
       "11638   Не понравился то, что невозможно подключить к...  \n",
       "\n",
       "[11639 rows x 3 columns]"
      ]
     },
     "execution_count": 31,
     "metadata": {},
     "output_type": "execute_result"
    }
   ],
   "source": [
    "#kaspi.tail(5)\n",
    "kaspi"
   ]
  },
  {
   "cell_type": "code",
   "execution_count": 32,
   "metadata": {},
   "outputs": [],
   "source": [
    "mystem = Mystem() \n",
    "russian_stopwords = stopwords.words(\"russian\")\n",
    "def preprocess_text(text):\n",
    "    tokens = mystem.lemmatize(text.lower())\n",
    "    tokens = [token for token in tokens if token not in russian_stopwords\\\n",
    "              and token != \" \" \\\n",
    "              and token.strip() not in punctuation]\n",
    "    \n",
    "    text = \" \".join(tokens)\n",
    "    \n",
    "    return text"
   ]
  },
  {
   "cell_type": "code",
   "execution_count": 51,
   "metadata": {},
   "outputs": [],
   "source": [
    "kaspi['Review'] = kaspi['Review'].apply(preprocess_text)"
   ]
  },
  {
   "cell_type": "code",
   "execution_count": 33,
   "metadata": {},
   "outputs": [
    {
     "data": {
      "text/html": [
       "<div>\n",
       "<style scoped>\n",
       "    .dataframe tbody tr th:only-of-type {\n",
       "        vertical-align: middle;\n",
       "    }\n",
       "\n",
       "    .dataframe tbody tr th {\n",
       "        vertical-align: top;\n",
       "    }\n",
       "\n",
       "    .dataframe thead th {\n",
       "        text-align: right;\n",
       "    }\n",
       "</style>\n",
       "<table border=\"1\" class=\"dataframe\">\n",
       "  <thead>\n",
       "    <tr style=\"text-align: right;\">\n",
       "      <th></th>\n",
       "      <th>Name</th>\n",
       "      <th>Rating</th>\n",
       "      <th>Review</th>\n",
       "    </tr>\n",
       "  </thead>\n",
       "  <tbody>\n",
       "    <tr>\n",
       "      <th>0</th>\n",
       "      <td>Смарт-часы Xiaomi Amazfit Bip Red</td>\n",
       "      <td>5</td>\n",
       "      <td>Цена и качество соответствуют! Отличное качест...</td>\n",
       "    </tr>\n",
       "    <tr>\n",
       "      <th>1</th>\n",
       "      <td>Смарт-часы Xiaomi Amazfit Bip Red</td>\n",
       "      <td>4</td>\n",
       "      <td>Хорошо держится заряд батареи, уже неделю как ...</td>\n",
       "    </tr>\n",
       "    <tr>\n",
       "      <th>2</th>\n",
       "      <td>Смарт-часы Xiaomi Amazfit Bip Red</td>\n",
       "      <td>5</td>\n",
       "      <td>Красивый, удобный, информативный, после подклю...</td>\n",
       "    </tr>\n",
       "    <tr>\n",
       "      <th>3</th>\n",
       "      <td>Смарт-часы Xiaomi Amazfit Bip Red</td>\n",
       "      <td>5</td>\n",
       "      <td>Часы реальные. Рекомендую всем.</td>\n",
       "    </tr>\n",
       "    <tr>\n",
       "      <th>4</th>\n",
       "      <td>Смарт-часы Xiaomi Amazfit Bip Red</td>\n",
       "      <td>5</td>\n",
       "      <td>Брал в подарок, обладательница часов довольна!...</td>\n",
       "    </tr>\n",
       "    <tr>\n",
       "      <th>...</th>\n",
       "      <td>...</td>\n",
       "      <td>...</td>\n",
       "      <td>...</td>\n",
       "    </tr>\n",
       "    <tr>\n",
       "      <th>11634</th>\n",
       "      <td>Браслет Xiaomi Mi Band 3 черный</td>\n",
       "      <td>2</td>\n",
       "      <td>Капсула хорошо зафиксирована в ремешке Сыроват...</td>\n",
       "    </tr>\n",
       "    <tr>\n",
       "      <th>11635</th>\n",
       "      <td>Браслет Xiaomi Mi Band 3 черный</td>\n",
       "      <td>1</td>\n",
       "      <td>Я очень расстроен.</td>\n",
       "    </tr>\n",
       "    <tr>\n",
       "      <th>11636</th>\n",
       "      <td>Браслет Xiaomi Mi Band 3 черный</td>\n",
       "      <td>3</td>\n",
       "      <td>Качество хорошее, непромокаемый Неудобный В ос...</td>\n",
       "    </tr>\n",
       "    <tr>\n",
       "      <th>11637</th>\n",
       "      <td>Браслет Xiaomi Mi Band 3 черный</td>\n",
       "      <td>3</td>\n",
       "      <td>Уведомления мессенджеров не выходят. Ватсап, ...</td>\n",
       "    </tr>\n",
       "    <tr>\n",
       "      <th>11638</th>\n",
       "      <td>Браслет Xiaomi Mi Band 3 черный</td>\n",
       "      <td>2</td>\n",
       "      <td>Не понравился то, что невозможно подключить к...</td>\n",
       "    </tr>\n",
       "  </tbody>\n",
       "</table>\n",
       "<p>11639 rows × 3 columns</p>\n",
       "</div>"
      ],
      "text/plain": [
       "                                    Name  Rating  \\\n",
       "0      Смарт-часы Xiaomi Amazfit Bip Red       5   \n",
       "1      Смарт-часы Xiaomi Amazfit Bip Red       4   \n",
       "2      Смарт-часы Xiaomi Amazfit Bip Red       5   \n",
       "3      Смарт-часы Xiaomi Amazfit Bip Red       5   \n",
       "4      Смарт-часы Xiaomi Amazfit Bip Red       5   \n",
       "...                                  ...     ...   \n",
       "11634    Браслет Xiaomi Mi Band 3 черный       2   \n",
       "11635    Браслет Xiaomi Mi Band 3 черный       1   \n",
       "11636    Браслет Xiaomi Mi Band 3 черный       3   \n",
       "11637    Браслет Xiaomi Mi Band 3 черный       3   \n",
       "11638    Браслет Xiaomi Mi Band 3 черный       2   \n",
       "\n",
       "                                                  Review  \n",
       "0      Цена и качество соответствуют! Отличное качест...  \n",
       "1      Хорошо держится заряд батареи, уже неделю как ...  \n",
       "2      Красивый, удобный, информативный, после подклю...  \n",
       "3                        Часы реальные. Рекомендую всем.  \n",
       "4      Брал в подарок, обладательница часов довольна!...  \n",
       "...                                                  ...  \n",
       "11634  Капсула хорошо зафиксирована в ремешке Сыроват...  \n",
       "11635                                 Я очень расстроен.  \n",
       "11636  Качество хорошее, непромокаемый Неудобный В ос...  \n",
       "11637   Уведомления мессенджеров не выходят. Ватсап, ...  \n",
       "11638   Не понравился то, что невозможно подключить к...  \n",
       "\n",
       "[11639 rows x 3 columns]"
      ]
     },
     "execution_count": 33,
     "metadata": {},
     "output_type": "execute_result"
    }
   ],
   "source": [
    "kaspi"
   ]
  },
  {
   "cell_type": "code",
   "execution_count": 34,
   "metadata": {},
   "outputs": [],
   "source": [
    "kaspi.Rating = kaspi.Rating.apply(pd.to_numeric)"
   ]
  },
  {
   "cell_type": "code",
   "execution_count": 35,
   "metadata": {},
   "outputs": [
    {
     "data": {
      "text/html": [
       "<div>\n",
       "<style scoped>\n",
       "    .dataframe tbody tr th:only-of-type {\n",
       "        vertical-align: middle;\n",
       "    }\n",
       "\n",
       "    .dataframe tbody tr th {\n",
       "        vertical-align: top;\n",
       "    }\n",
       "\n",
       "    .dataframe thead th {\n",
       "        text-align: right;\n",
       "    }\n",
       "</style>\n",
       "<table border=\"1\" class=\"dataframe\">\n",
       "  <thead>\n",
       "    <tr style=\"text-align: right;\">\n",
       "      <th></th>\n",
       "      <th>Name</th>\n",
       "      <th>Rating</th>\n",
       "      <th>Review</th>\n",
       "      <th>Sentiment</th>\n",
       "    </tr>\n",
       "  </thead>\n",
       "  <tbody>\n",
       "    <tr>\n",
       "      <th>0</th>\n",
       "      <td>Смарт-часы Xiaomi Amazfit Bip Red</td>\n",
       "      <td>5</td>\n",
       "      <td>Цена и качество соответствуют! Отличное качест...</td>\n",
       "      <td>1</td>\n",
       "    </tr>\n",
       "    <tr>\n",
       "      <th>1</th>\n",
       "      <td>Смарт-часы Xiaomi Amazfit Bip Red</td>\n",
       "      <td>4</td>\n",
       "      <td>Хорошо держится заряд батареи, уже неделю как ...</td>\n",
       "      <td>1</td>\n",
       "    </tr>\n",
       "    <tr>\n",
       "      <th>2</th>\n",
       "      <td>Смарт-часы Xiaomi Amazfit Bip Red</td>\n",
       "      <td>5</td>\n",
       "      <td>Красивый, удобный, информативный, после подклю...</td>\n",
       "      <td>1</td>\n",
       "    </tr>\n",
       "    <tr>\n",
       "      <th>3</th>\n",
       "      <td>Смарт-часы Xiaomi Amazfit Bip Red</td>\n",
       "      <td>5</td>\n",
       "      <td>Часы реальные. Рекомендую всем.</td>\n",
       "      <td>1</td>\n",
       "    </tr>\n",
       "    <tr>\n",
       "      <th>4</th>\n",
       "      <td>Смарт-часы Xiaomi Amazfit Bip Red</td>\n",
       "      <td>5</td>\n",
       "      <td>Брал в подарок, обладательница часов довольна!...</td>\n",
       "      <td>1</td>\n",
       "    </tr>\n",
       "    <tr>\n",
       "      <th>...</th>\n",
       "      <td>...</td>\n",
       "      <td>...</td>\n",
       "      <td>...</td>\n",
       "      <td>...</td>\n",
       "    </tr>\n",
       "    <tr>\n",
       "      <th>11634</th>\n",
       "      <td>Браслет Xiaomi Mi Band 3 черный</td>\n",
       "      <td>2</td>\n",
       "      <td>Капсула хорошо зафиксирована в ремешке Сыроват...</td>\n",
       "      <td>0</td>\n",
       "    </tr>\n",
       "    <tr>\n",
       "      <th>11635</th>\n",
       "      <td>Браслет Xiaomi Mi Band 3 черный</td>\n",
       "      <td>1</td>\n",
       "      <td>Я очень расстроен.</td>\n",
       "      <td>0</td>\n",
       "    </tr>\n",
       "    <tr>\n",
       "      <th>11636</th>\n",
       "      <td>Браслет Xiaomi Mi Band 3 черный</td>\n",
       "      <td>3</td>\n",
       "      <td>Качество хорошее, непромокаемый Неудобный В ос...</td>\n",
       "      <td>0</td>\n",
       "    </tr>\n",
       "    <tr>\n",
       "      <th>11637</th>\n",
       "      <td>Браслет Xiaomi Mi Band 3 черный</td>\n",
       "      <td>3</td>\n",
       "      <td>Уведомления мессенджеров не выходят. Ватсап, ...</td>\n",
       "      <td>0</td>\n",
       "    </tr>\n",
       "    <tr>\n",
       "      <th>11638</th>\n",
       "      <td>Браслет Xiaomi Mi Band 3 черный</td>\n",
       "      <td>2</td>\n",
       "      <td>Не понравился то, что невозможно подключить к...</td>\n",
       "      <td>0</td>\n",
       "    </tr>\n",
       "  </tbody>\n",
       "</table>\n",
       "<p>11639 rows × 4 columns</p>\n",
       "</div>"
      ],
      "text/plain": [
       "                                    Name  Rating  \\\n",
       "0      Смарт-часы Xiaomi Amazfit Bip Red       5   \n",
       "1      Смарт-часы Xiaomi Amazfit Bip Red       4   \n",
       "2      Смарт-часы Xiaomi Amazfit Bip Red       5   \n",
       "3      Смарт-часы Xiaomi Amazfit Bip Red       5   \n",
       "4      Смарт-часы Xiaomi Amazfit Bip Red       5   \n",
       "...                                  ...     ...   \n",
       "11634    Браслет Xiaomi Mi Band 3 черный       2   \n",
       "11635    Браслет Xiaomi Mi Band 3 черный       1   \n",
       "11636    Браслет Xiaomi Mi Band 3 черный       3   \n",
       "11637    Браслет Xiaomi Mi Band 3 черный       3   \n",
       "11638    Браслет Xiaomi Mi Band 3 черный       2   \n",
       "\n",
       "                                                  Review  Sentiment  \n",
       "0      Цена и качество соответствуют! Отличное качест...          1  \n",
       "1      Хорошо держится заряд батареи, уже неделю как ...          1  \n",
       "2      Красивый, удобный, информативный, после подклю...          1  \n",
       "3                        Часы реальные. Рекомендую всем.          1  \n",
       "4      Брал в подарок, обладательница часов довольна!...          1  \n",
       "...                                                  ...        ...  \n",
       "11634  Капсула хорошо зафиксирована в ремешке Сыроват...          0  \n",
       "11635                                 Я очень расстроен.          0  \n",
       "11636  Качество хорошее, непромокаемый Неудобный В ос...          0  \n",
       "11637   Уведомления мессенджеров не выходят. Ватсап, ...          0  \n",
       "11638   Не понравился то, что невозможно подключить к...          0  \n",
       "\n",
       "[11639 rows x 4 columns]"
      ]
     },
     "execution_count": 35,
     "metadata": {},
     "output_type": "execute_result"
    }
   ],
   "source": [
    "def sentiment(n):\n",
    "    return 1 if n >= 4 else 0\n",
    "kaspi['Sentiment'] = kaspi['Rating'].apply(sentiment)\n",
    "kaspi"
   ]
  },
  {
   "cell_type": "code",
   "execution_count": 36,
   "metadata": {},
   "outputs": [],
   "source": [
    "X = kaspi['Review']\n",
    "y = kaspi['Sentiment']"
   ]
  },
  {
   "cell_type": "code",
   "execution_count": 37,
   "metadata": {},
   "outputs": [],
   "source": [
    "X_train, X_test, y_train, y_test = train_test_split(X, y, random_state=0)"
   ]
  },
  {
   "cell_type": "markdown",
   "metadata": {},
   "source": [
    "# Baseline"
   ]
  },
  {
   "cell_type": "code",
   "execution_count": 39,
   "metadata": {},
   "outputs": [
    {
     "data": {
      "text/plain": [
       "Pipeline(steps=[('vectorizer', TfidfVectorizer()), ('classifier', LinearSVC())])"
      ]
     },
     "execution_count": 39,
     "metadata": {},
     "output_type": "execute_result"
    }
   ],
   "source": [
    "clf_pipeline = Pipeline(\n",
    "            [(\"vectorizer\", TfidfVectorizer()), \n",
    "            (\"classifier\", LinearSVC())]\n",
    "        )\n",
    "\n",
    "clf_pipeline.fit(X_train, y_train)"
   ]
  },
  {
   "cell_type": "code",
   "execution_count": 40,
   "metadata": {},
   "outputs": [
    {
     "data": {
      "image/png": "[encoded data removed]",
      "text/plain": [
       "<Figure size 504x504 with 2 Axes>"
      ]
     },
     "metadata": {
      "needs_background": "light"
     },
     "output_type": "display_data"
    }
   ],
   "source": [
    "cm = metrics.confusion_matrix(y_test, clf_pipeline.predict(X_test))\n",
    "\n",
    "def plotConfusionMatrix(cm):\n",
    "    fig = plt.figure(figsize=(7,7))\n",
    "    sns.heatmap(cm, annot=True, fmt=\"d\")\n",
    "    plt.title('Confusion Matrix')\n",
    "    plt.ylabel('Actual values')\n",
    "    plt.xlabel('Predicted values')\n",
    "    return None\n",
    "\n",
    "plotConfusionMatrix(cm)"
   ]
  },
  {
   "cell_type": "code",
   "execution_count": 41,
   "metadata": {},
   "outputs": [
    {
     "name": "stdout",
     "output_type": "stream",
     "text": [
      "              precision    recall  f1-score   support\n",
      "\n",
      "           0       0.64      0.34      0.44       173\n",
      "           1       0.96      0.99      0.97      2737\n",
      "\n",
      "    accuracy                           0.95      2910\n",
      "   macro avg       0.80      0.66      0.71      2910\n",
      "weighted avg       0.94      0.95      0.94      2910\n",
      "\n"
     ]
    }
   ],
   "source": [
    "print(metrics.classification_report(y_test, clf_pipeline.predict(X_test)))\n",
    "f1_base = metrics.f1_score(y_test, clf_pipeline.predict(X_test))"
   ]
  },
  {
   "cell_type": "markdown",
   "metadata": {},
   "source": [
    "# GridSearchCV"
   ]
  },
  {
   "cell_type": "code",
   "execution_count": 42,
   "metadata": {},
   "outputs": [
    {
     "name": "stdout",
     "output_type": "stream",
     "text": [
      "memory\n",
      "steps\n",
      "verbose\n",
      "vectorizer\n",
      "classifier\n",
      "vectorizer__analyzer\n",
      "vectorizer__binary\n",
      "vectorizer__decode_error\n",
      "vectorizer__dtype\n",
      "vectorizer__encoding\n",
      "vectorizer__input\n",
      "vectorizer__lowercase\n",
      "vectorizer__max_df\n",
      "vectorizer__max_features\n",
      "vectorizer__min_df\n",
      "vectorizer__ngram_range\n",
      "vectorizer__norm\n",
      "vectorizer__preprocessor\n",
      "vectorizer__smooth_idf\n",
      "vectorizer__stop_words\n",
      "vectorizer__strip_accents\n",
      "vectorizer__sublinear_tf\n",
      "vectorizer__token_pattern\n",
      "vectorizer__tokenizer\n",
      "vectorizer__use_idf\n",
      "vectorizer__vocabulary\n",
      "classifier__C\n",
      "classifier__class_weight\n",
      "classifier__dual\n",
      "classifier__fit_intercept\n",
      "classifier__intercept_scaling\n",
      "classifier__loss\n",
      "classifier__max_iter\n",
      "classifier__multi_class\n",
      "classifier__penalty\n",
      "classifier__random_state\n",
      "classifier__tol\n",
      "classifier__verbose\n"
     ]
    }
   ],
   "source": [
    "print('\\n'.join(clf_pipeline.get_params().keys()))"
   ]
  },
  {
   "cell_type": "code",
   "execution_count": 43,
   "metadata": {},
   "outputs": [],
   "source": [
    "parameters = {'vectorizer__max_features': (10**3, 10**4),\n",
    "              'vectorizer__ngram_range': ((1, 2),(2, 3)),\n",
    "              'classifier__penalty': ('l1','l2'),\n",
    "              'classifier__C': (range(1,10,2))\n",
    "             }"
   ]
  },
  {
   "cell_type": "code",
   "execution_count": 44,
   "metadata": {},
   "outputs": [
    {
     "data": {
      "text/plain": [
       "GridSearchCV(cv=4,\n",
       "             estimator=Pipeline(steps=[('vectorizer', TfidfVectorizer()),\n",
       "                                       ('classifier', LinearSVC())]),\n",
       "             n_jobs=-1,\n",
       "             param_grid={'classifier__C': range(1, 10, 2),\n",
       "                         'classifier__penalty': ('l1', 'l2'),\n",
       "                         'vectorizer__max_features': (1000, 10000),\n",
       "                         'vectorizer__ngram_range': ((1, 2), (2, 3))},\n",
       "             scoring='f1')"
      ]
     },
     "execution_count": 44,
     "metadata": {},
     "output_type": "execute_result"
    }
   ],
   "source": [
    "gs_clf = GridSearchCV(clf_pipeline, parameters, scoring='f1', cv = 4, n_jobs=-1)\n",
    "gs_clf.fit(X_train, y_train)"
   ]
  },
  {
   "cell_type": "code",
   "execution_count": 45,
   "metadata": {},
   "outputs": [
    {
     "name": "stdout",
     "output_type": "stream",
     "text": [
      "              precision    recall  f1-score   support\n",
      "\n",
      "           0       0.74      0.40      0.52       173\n",
      "           1       0.96      0.99      0.98      2737\n",
      "\n",
      "    accuracy                           0.96      2910\n",
      "   macro avg       0.85      0.70      0.75      2910\n",
      "weighted avg       0.95      0.96      0.95      2910\n",
      "\n"
     ]
    }
   ],
   "source": [
    "print(metrics.classification_report(y_test, gs_clf.predict(X_test)))\n",
    "f1_gsLSVC = metrics.f1_score(y_test, gs_clf.predict(X_test))"
   ]
  },
  {
   "cell_type": "markdown",
   "metadata": {},
   "source": [
    "# Randomized Search CV on TfidfVectorizer and LogisticRegression"
   ]
  },
  {
   "cell_type": "code",
   "execution_count": 46,
   "metadata": {},
   "outputs": [],
   "source": [
    "parameters = {'vectorizer__ngram_range': [(1, 2),(1, 3)],\n",
    "              'vectorizer__min_df': [0.,.2,.4,.6,.8,1],\n",
    "              'classifier__penalty': ('l1','l2'),\n",
    "              'classifier__C': (range(1,10,2)),\n",
    "             }"
   ]
  },
  {
   "cell_type": "code",
   "execution_count": 47,
   "metadata": {},
   "outputs": [],
   "source": [
    "clf_pipeline_LogitReg = Pipeline(\n",
    "            [(\"vectorizer\", TfidfVectorizer()),\n",
    "            (\"classifier\", LogisticRegression())]\n",
    "        )"
   ]
  },
  {
   "cell_type": "code",
   "execution_count": 48,
   "metadata": {},
   "outputs": [],
   "source": [
    "def plotROC(y_test, probs, titl=''):\n",
    "    if titl!='':\n",
    "        titl = ' ('+titl+')' \n",
    "    fpr, tpr, threshold = metrics.roc_curve(y_test, probs)\n",
    "    roc_auc = metrics.auc(fpr, tpr)\n",
    "    plt.title('Receiver Operating Characteristic'+titl)\n",
    "    plt.plot(fpr, tpr, 'b', label = 'AUC = %0.5f' % roc_auc)\n",
    "    plt.legend(loc = 'lower right')\n",
    "    plt.plot([0, 1], [0, 1],'r--')\n",
    "    plt.xlim([0, 1])\n",
    "    plt.ylim([0, 1])\n",
    "    plt.ylabel('True Positive Rate')\n",
    "    plt.xlabel('False Positive Rate')\n",
    "    plt.show()\n",
    "    return None"
   ]
  },
  {
   "cell_type": "code",
   "execution_count": 49,
   "metadata": {},
   "outputs": [
    {
     "data": {
      "image/png": "[encoded data removed]",
      "text/plain": [
       "<Figure size 432x288 with 1 Axes>"
      ]
     },
     "metadata": {
      "needs_background": "light"
     },
     "output_type": "display_data"
    },
    {
     "data": {
      "image/png": "[encoded data removed]",
      "text/plain": [
       "<Figure size 432x288 with 1 Axes>"
      ]
     },
     "metadata": {
      "needs_background": "light"
     },
     "output_type": "display_data"
    }
   ],
   "source": [
    "rndgs_clf_LogitReg = RandomizedSearchCV(clf_pipeline_LogitReg, parameters, scoring='f1', cv = 4, n_jobs=-1)\n",
    "rndgs_clf_LogitReg.fit(X_train, y_train)\n",
    "\n",
    "probs = rndgs_clf_LogitReg.predict_proba(X_train)[:,1]\n",
    "plotROC(y_train, probs, 'Train')\n",
    "\n",
    "probs = rndgs_clf_LogitReg.predict_proba(X_test)[:,1]\n",
    "plotROC(y_test, probs, 'Test')"
   ]
  },
  {
   "cell_type": "code",
   "execution_count": 50,
   "metadata": {},
   "outputs": [
    {
     "data": {
      "image/png": "[encoded data removed]",
      "text/plain": [
       "<Figure size 504x504 with 2 Axes>"
      ]
     },
     "metadata": {
      "needs_background": "light"
     },
     "output_type": "display_data"
    }
   ],
   "source": [
    "plotConfusionMatrix(metrics.confusion_matrix(y_test, rndgs_clf_LogitReg.predict(X_test)))"
   ]
  },
  {
   "cell_type": "code",
   "execution_count": 51,
   "metadata": {},
   "outputs": [
    {
     "name": "stdout",
     "output_type": "stream",
     "text": [
      "              precision    recall  f1-score   support\n",
      "\n",
      "           0       0.76      0.26      0.39       173\n",
      "           1       0.96      0.99      0.97      2737\n",
      "\n",
      "    accuracy                           0.95      2910\n",
      "   macro avg       0.86      0.63      0.68      2910\n",
      "weighted avg       0.94      0.95      0.94      2910\n",
      "\n"
     ]
    }
   ],
   "source": [
    "print(metrics.classification_report(y_test, rndgs_clf_LogitReg.predict(X_test)))\n",
    "f1_rndLogR = metrics.f1_score(y_test, rndgs_clf_LogitReg.predict(X_test))"
   ]
  },
  {
   "cell_type": "code",
   "execution_count": 54,
   "metadata": {},
   "outputs": [
    {
     "data": {
      "text/html": [
       "<div>\n",
       "<style scoped>\n",
       "    .dataframe tbody tr th:only-of-type {\n",
       "        vertical-align: middle;\n",
       "    }\n",
       "\n",
       "    .dataframe tbody tr th {\n",
       "        vertical-align: top;\n",
       "    }\n",
       "\n",
       "    .dataframe thead th {\n",
       "        text-align: right;\n",
       "    }\n",
       "</style>\n",
       "<table border=\"1\" class=\"dataframe\">\n",
       "  <thead>\n",
       "    <tr style=\"text-align: right;\">\n",
       "      <th></th>\n",
       "      <th>F1 score</th>\n",
       "    </tr>\n",
       "  </thead>\n",
       "  <tbody>\n",
       "    <tr>\n",
       "      <th>BaseLine</th>\n",
       "      <td>0.973547</td>\n",
       "    </tr>\n",
       "    <tr>\n",
       "      <th>GS_LSVC</th>\n",
       "      <td>0.976954</td>\n",
       "    </tr>\n",
       "    <tr>\n",
       "      <th>rndGS_LogR</th>\n",
       "      <td>0.974588</td>\n",
       "    </tr>\n",
       "  </tbody>\n",
       "</table>\n",
       "</div>"
      ],
      "text/plain": [
       "            F1 score\n",
       "BaseLine    0.973547\n",
       "GS_LSVC     0.976954\n",
       "rndGS_LogR  0.974588"
      ]
     },
     "execution_count": 54,
     "metadata": {},
     "output_type": "execute_result"
    }
   ],
   "source": [
    "pd.DataFrame([f1_base, f1_gsLSVC, f1_rndLogR],\n",
    "             index=['BaseLine', 'Grid Serach', 'RandomizedSearchCV'], \n",
    "             columns=['F1 score'])"
   ]
  }
 ],
 "metadata": {
  "kernelspec": {
   "display_name": "Python 3",
   "language": "python",
   "name": "python3"
  },
  "language_info": {
   "codemirror_mode": {
    "name": "ipython",
    "version": 3
   },
   "file_extension": ".py",
   "mimetype": "text/x-python",
   "name": "python",
   "nbconvert_exporter": "python",
   "pygments_lexer": "ipython3",
   "version": "3.8.3"
  }
 },
 "nbformat": 4,
 "nbformat_minor": 4
}
