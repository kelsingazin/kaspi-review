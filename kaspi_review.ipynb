{
 "cells": [
  {
   "cell_type": "code",
   "execution_count": 1,
   "metadata": {},
   "outputs": [],
   "source": [
    "import pandas as pd\n",
    "import numpy as np\n",
    "import matplotlib.pyplot as plt\n",
    "import seaborn as sns\n",
    "import re\n",
    "import nltk\n",
    "from nltk.stem.snowball import SnowballStemmer\n",
    "from sklearn.model_selection import train_test_split, RandomizedSearchCV, GridSearchCV\n",
    "from sklearn.feature_extraction.text import CountVectorizer, TfidfVectorizer\n",
    "from sklearn.linear_model import LogisticRegression\n",
    "from sklearn.metrics import accuracy_score, confusion_matrix, classification_report\n",
    "from sklearn.pipeline import Pipeline\n",
    "from sklearn.svm import LinearSVC\n",
    "from sklearn import metrics"
   ]
  },
  {
   "cell_type": "code",
   "execution_count": 2,
   "metadata": {},
   "outputs": [
    {
     "name": "stderr",
     "output_type": "stream",
     "text": [
      "[nltk_data] Downloading package stopwords to\n",
      "[nltk_data]     C:\\Users\\Yerassyl\\AppData\\Roaming\\nltk_data...\n",
      "[nltk_data]   Package stopwords is already up-to-date!\n"
     ]
    }
   ],
   "source": [
    "# import nltk\n",
    "# nltk.download(\"stopwords\")\n",
    "# from nltk.corpus import stopwords\n",
    "# from pymystem3 import Mystem\n",
    "# from string import punctuation"
   ]
  },
  {
   "cell_type": "code",
   "execution_count": 2,
   "metadata": {},
   "outputs": [
    {
     "name": "stderr",
     "output_type": "stream",
     "text": [
      "[nltk_data] Downloading package averaged_perceptron_tagger_ru to\n",
      "[nltk_data]     C:\\Users\\Yerassyl\\AppData\\Roaming\\nltk_data...\n",
      "[nltk_data]   Package averaged_perceptron_tagger_ru is already up-to-\n",
      "[nltk_data]       date!\n"
     ]
    },
    {
     "data": {
      "text/plain": [
       "True"
      ]
     },
     "execution_count": 2,
     "metadata": {},
     "output_type": "execute_result"
    }
   ],
   "source": [
    "nltk.download('averaged_perceptron_tagger_ru')"
   ]
  },
  {
   "cell_type": "code",
   "execution_count": 3,
   "metadata": {},
   "outputs": [],
   "source": [
    "products = pd.read_csv('kaspi.csv',sep=';',header=0)"
   ]
  },
  {
   "cell_type": "code",
   "execution_count": 4,
   "metadata": {},
   "outputs": [],
   "source": [
    "products = products.replace(np.nan, '', regex=True)"
   ]
  },
  {
   "cell_type": "code",
   "execution_count": 5,
   "metadata": {
    "scrolled": true
   },
   "outputs": [
    {
     "data": {
      "text/html": [
       "<div>\n",
       "<style scoped>\n",
       "    .dataframe tbody tr th:only-of-type {\n",
       "        vertical-align: middle;\n",
       "    }\n",
       "\n",
       "    .dataframe tbody tr th {\n",
       "        vertical-align: top;\n",
       "    }\n",
       "\n",
       "    .dataframe thead th {\n",
       "        text-align: right;\n",
       "    }\n",
       "</style>\n",
       "<table border=\"1\" class=\"dataframe\">\n",
       "  <thead>\n",
       "    <tr style=\"text-align: right;\">\n",
       "      <th></th>\n",
       "      <th>Название продукта</th>\n",
       "      <th>Рейтинг</th>\n",
       "      <th>Достоинства</th>\n",
       "      <th>Недостатки</th>\n",
       "      <th>Комментарий</th>\n",
       "    </tr>\n",
       "  </thead>\n",
       "  <tbody>\n",
       "    <tr>\n",
       "      <th>11636</th>\n",
       "      <td>Браслет Xiaomi Mi Band 3 черный</td>\n",
       "      <td>3</td>\n",
       "      <td>Качество хорошее, непромокаемый</td>\n",
       "      <td>Неудобный</td>\n",
       "      <td>В остальном всё хорошо</td>\n",
       "    </tr>\n",
       "    <tr>\n",
       "      <th>11637</th>\n",
       "      <td>Браслет Xiaomi Mi Band 3 черный</td>\n",
       "      <td>3</td>\n",
       "      <td></td>\n",
       "      <td>Уведомления мессенджеров не выходят. Ватсап, т...</td>\n",
       "      <td></td>\n",
       "    </tr>\n",
       "    <tr>\n",
       "      <th>11638</th>\n",
       "      <td>Браслет Xiaomi Mi Band 3 черный</td>\n",
       "      <td>2</td>\n",
       "      <td></td>\n",
       "      <td>Не понравился то, что невозможно подключить к ...</td>\n",
       "      <td></td>\n",
       "    </tr>\n",
       "  </tbody>\n",
       "</table>\n",
       "</div>"
      ],
      "text/plain": [
       "                     Название продукта  Рейтинг  \\\n",
       "11636  Браслет Xiaomi Mi Band 3 черный        3   \n",
       "11637  Браслет Xiaomi Mi Band 3 черный        3   \n",
       "11638  Браслет Xiaomi Mi Band 3 черный        2   \n",
       "\n",
       "                           Достоинства  \\\n",
       "11636  Качество хорошее, непромокаемый   \n",
       "11637                                    \n",
       "11638                                    \n",
       "\n",
       "                                              Недостатки  \\\n",
       "11636                                          Неудобный   \n",
       "11637  Уведомления мессенджеров не выходят. Ватсап, т...   \n",
       "11638  Не понравился то, что невозможно подключить к ...   \n",
       "\n",
       "                  Комментарий  \n",
       "11636  В остальном всё хорошо  \n",
       "11637                          \n",
       "11638                          "
      ]
     },
     "execution_count": 5,
     "metadata": {},
     "output_type": "execute_result"
    }
   ],
   "source": [
    "products.tail(3)"
   ]
  },
  {
   "cell_type": "code",
   "execution_count": 6,
   "metadata": {},
   "outputs": [],
   "source": [
    "for i in range(0,len(products)):\n",
    "    if type(products.iloc[i]['Достоинства']) != str:\n",
    "        products.iloc[i]['Достоинства'] = str(products.iloc[i]['Достоинства'])"
   ]
  },
  {
   "cell_type": "code",
   "execution_count": 7,
   "metadata": {},
   "outputs": [],
   "source": [
    "for i in range(0,len(products)):\n",
    "    if type(products.iloc[i]['Недостатки']) != str:\n",
    "        products.iloc[i]['Недостатки'] = str(products.iloc[i]['Недостатки'])"
   ]
  },
  {
   "cell_type": "code",
   "execution_count": 8,
   "metadata": {},
   "outputs": [],
   "source": [
    "for i in range(0,len(products)):\n",
    "    if type(products.iloc[i]['Комментарий']) != str:\n",
    "        products.iloc[i]['Комментарий'] = str(products.iloc[i]['Комментарий'])"
   ]
  },
  {
   "cell_type": "code",
   "execution_count": 9,
   "metadata": {},
   "outputs": [],
   "source": [
    "def combined_features(row):\n",
    "    return row['Достоинства'] + ' '+ row['Недостатки'] + ' '+ row['Комментарий']\n",
    "products['Отзывы'] = products.apply(combined_features, axis=1)"
   ]
  },
  {
   "cell_type": "code",
   "execution_count": 10,
   "metadata": {},
   "outputs": [
    {
     "data": {
      "text/html": [
       "<div>\n",
       "<style scoped>\n",
       "    .dataframe tbody tr th:only-of-type {\n",
       "        vertical-align: middle;\n",
       "    }\n",
       "\n",
       "    .dataframe tbody tr th {\n",
       "        vertical-align: top;\n",
       "    }\n",
       "\n",
       "    .dataframe thead th {\n",
       "        text-align: right;\n",
       "    }\n",
       "</style>\n",
       "<table border=\"1\" class=\"dataframe\">\n",
       "  <thead>\n",
       "    <tr style=\"text-align: right;\">\n",
       "      <th></th>\n",
       "      <th>Название продукта</th>\n",
       "      <th>Рейтинг</th>\n",
       "      <th>Достоинства</th>\n",
       "      <th>Недостатки</th>\n",
       "      <th>Комментарий</th>\n",
       "      <th>Отзывы</th>\n",
       "    </tr>\n",
       "  </thead>\n",
       "  <tbody>\n",
       "    <tr>\n",
       "      <th>0</th>\n",
       "      <td>Смарт-часы Xiaomi Amazfit Bip Red</td>\n",
       "      <td>5</td>\n",
       "      <td>Цена и качество соответствуют! Отличное качест...</td>\n",
       "      <td></td>\n",
       "      <td>Все отлично. Всем рекомендую</td>\n",
       "      <td>Цена и качество соответствуют! Отличное качест...</td>\n",
       "    </tr>\n",
       "    <tr>\n",
       "      <th>1</th>\n",
       "      <td>Смарт-часы Xiaomi Amazfit Bip Red</td>\n",
       "      <td>4</td>\n",
       "      <td>Хорошо держится заряд батареи, уже неделю как ...</td>\n",
       "      <td>Не очень удобный ремешок у часов. Ошиблась при...</td>\n",
       "      <td></td>\n",
       "      <td>Хорошо держится заряд батареи, уже неделю как ...</td>\n",
       "    </tr>\n",
       "    <tr>\n",
       "      <th>2</th>\n",
       "      <td>Смарт-часы Xiaomi Amazfit Bip Red</td>\n",
       "      <td>5</td>\n",
       "      <td>Красивый, удобный, информативный, после подклю...</td>\n",
       "      <td>Нельзя управлять музыкой, gps немного врет - к...</td>\n",
       "      <td>В целом всем доволен. На руке стильно сидят, р...</td>\n",
       "      <td>Красивый, удобный, информативный, после подклю...</td>\n",
       "    </tr>\n",
       "    <tr>\n",
       "      <th>3</th>\n",
       "      <td>Смарт-часы Xiaomi Amazfit Bip Red</td>\n",
       "      <td>5</td>\n",
       "      <td></td>\n",
       "      <td></td>\n",
       "      <td>Часы реальные. Рекомендую всем.</td>\n",
       "      <td>Часы реальные. Рекомендую всем.</td>\n",
       "    </tr>\n",
       "    <tr>\n",
       "      <th>4</th>\n",
       "      <td>Смарт-часы Xiaomi Amazfit Bip Red</td>\n",
       "      <td>5</td>\n",
       "      <td>Брал в подарок, обладательница часов довольна!</td>\n",
       "      <td></td>\n",
       "      <td>Полезный и удобный аксессуар, рекомендую!</td>\n",
       "      <td>Брал в подарок, обладательница часов довольна!...</td>\n",
       "    </tr>\n",
       "  </tbody>\n",
       "</table>\n",
       "</div>"
      ],
      "text/plain": [
       "                   Название продукта  Рейтинг  \\\n",
       "0  Смарт-часы Xiaomi Amazfit Bip Red        5   \n",
       "1  Смарт-часы Xiaomi Amazfit Bip Red        4   \n",
       "2  Смарт-часы Xiaomi Amazfit Bip Red        5   \n",
       "3  Смарт-часы Xiaomi Amazfit Bip Red        5   \n",
       "4  Смарт-часы Xiaomi Amazfit Bip Red        5   \n",
       "\n",
       "                                         Достоинства  \\\n",
       "0  Цена и качество соответствуют! Отличное качест...   \n",
       "1  Хорошо держится заряд батареи, уже неделю как ...   \n",
       "2  Красивый, удобный, информативный, после подклю...   \n",
       "3                                                      \n",
       "4     Брал в подарок, обладательница часов довольна!   \n",
       "\n",
       "                                          Недостатки  \\\n",
       "0                                                      \n",
       "1  Не очень удобный ремешок у часов. Ошиблась при...   \n",
       "2  Нельзя управлять музыкой, gps немного врет - к...   \n",
       "3                                                      \n",
       "4                                                      \n",
       "\n",
       "                                         Комментарий  \\\n",
       "0                       Все отлично. Всем рекомендую   \n",
       "1                                                      \n",
       "2  В целом всем доволен. На руке стильно сидят, р...   \n",
       "3                    Часы реальные. Рекомендую всем.   \n",
       "4          Полезный и удобный аксессуар, рекомендую!   \n",
       "\n",
       "                                              Отзывы  \n",
       "0  Цена и качество соответствуют! Отличное качест...  \n",
       "1  Хорошо держится заряд батареи, уже неделю как ...  \n",
       "2  Красивый, удобный, информативный, после подклю...  \n",
       "3                    Часы реальные. Рекомендую всем.  \n",
       "4  Брал в подарок, обладательница часов довольна!...  "
      ]
     },
     "execution_count": 10,
     "metadata": {},
     "output_type": "execute_result"
    }
   ],
   "source": [
    "products.head(5)"
   ]
  },
  {
   "cell_type": "code",
   "execution_count": 11,
   "metadata": {},
   "outputs": [],
   "source": [
    "kaspi = products.filter(['Название продукта','Рейтинг','Отзывы'], axis=1)"
   ]
  },
  {
   "cell_type": "code",
   "execution_count": 12,
   "metadata": {},
   "outputs": [
    {
     "data": {
      "text/html": [
       "<div>\n",
       "<style scoped>\n",
       "    .dataframe tbody tr th:only-of-type {\n",
       "        vertical-align: middle;\n",
       "    }\n",
       "\n",
       "    .dataframe tbody tr th {\n",
       "        vertical-align: top;\n",
       "    }\n",
       "\n",
       "    .dataframe thead th {\n",
       "        text-align: right;\n",
       "    }\n",
       "</style>\n",
       "<table border=\"1\" class=\"dataframe\">\n",
       "  <thead>\n",
       "    <tr style=\"text-align: right;\">\n",
       "      <th></th>\n",
       "      <th>Название продукта</th>\n",
       "      <th>Рейтинг</th>\n",
       "      <th>Отзывы</th>\n",
       "    </tr>\n",
       "  </thead>\n",
       "  <tbody>\n",
       "    <tr>\n",
       "      <th>11634</th>\n",
       "      <td>Браслет Xiaomi Mi Band 3 черный</td>\n",
       "      <td>2</td>\n",
       "      <td>Капсула хорошо зафиксирована в ремешке Сыроват...</td>\n",
       "    </tr>\n",
       "    <tr>\n",
       "      <th>11635</th>\n",
       "      <td>Браслет Xiaomi Mi Band 3 черный</td>\n",
       "      <td>1</td>\n",
       "      <td>Я очень расстроен.</td>\n",
       "    </tr>\n",
       "    <tr>\n",
       "      <th>11636</th>\n",
       "      <td>Браслет Xiaomi Mi Band 3 черный</td>\n",
       "      <td>3</td>\n",
       "      <td>Качество хорошее, непромокаемый Неудобный В ос...</td>\n",
       "    </tr>\n",
       "    <tr>\n",
       "      <th>11637</th>\n",
       "      <td>Браслет Xiaomi Mi Band 3 черный</td>\n",
       "      <td>3</td>\n",
       "      <td>Уведомления мессенджеров не выходят. Ватсап, ...</td>\n",
       "    </tr>\n",
       "    <tr>\n",
       "      <th>11638</th>\n",
       "      <td>Браслет Xiaomi Mi Band 3 черный</td>\n",
       "      <td>2</td>\n",
       "      <td>Не понравился то, что невозможно подключить к...</td>\n",
       "    </tr>\n",
       "  </tbody>\n",
       "</table>\n",
       "</div>"
      ],
      "text/plain": [
       "                     Название продукта  Рейтинг  \\\n",
       "11634  Браслет Xiaomi Mi Band 3 черный        2   \n",
       "11635  Браслет Xiaomi Mi Band 3 черный        1   \n",
       "11636  Браслет Xiaomi Mi Band 3 черный        3   \n",
       "11637  Браслет Xiaomi Mi Band 3 черный        3   \n",
       "11638  Браслет Xiaomi Mi Band 3 черный        2   \n",
       "\n",
       "                                                  Отзывы  \n",
       "11634  Капсула хорошо зафиксирована в ремешке Сыроват...  \n",
       "11635                                 Я очень расстроен.  \n",
       "11636  Качество хорошее, непромокаемый Неудобный В ос...  \n",
       "11637   Уведомления мессенджеров не выходят. Ватсап, ...  \n",
       "11638   Не понравился то, что невозможно подключить к...  "
      ]
     },
     "execution_count": 12,
     "metadata": {},
     "output_type": "execute_result"
    }
   ],
   "source": [
    "kaspi.tail(5)"
   ]
  },
  {
   "cell_type": "code",
   "execution_count": 15,
   "metadata": {},
   "outputs": [],
   "source": [
    "# mystem = Mystem() \n",
    "# russian_stopwords = stopwords.words(\"russian\")\n",
    "# def preprocess_text(text):\n",
    "#     tokens = mystem.lemmatize(text.lower())\n",
    "#     tokens = [token for token in tokens if token not in russian_stopwords\\\n",
    "#               and token != \" \" \\\n",
    "#               and token.strip() not in punctuation]\n",
    "    \n",
    "#     text = \" \".join(tokens)\n",
    "    \n",
    "#     return text"
   ]
  },
  {
   "cell_type": "code",
   "execution_count": 13,
   "metadata": {},
   "outputs": [],
   "source": [
    "def cleanText(string):\n",
    "    # Common cleaning\n",
    "    string = string.lower()\n",
    "    string = re.sub(r\"http\\S+\", \"\", string)\n",
    "    string = str.replace(string,'Ё','е')\n",
    "    string = str.replace(string,'ё','е')\n",
    "    prog = re.compile('[А-Яа-яA-Za-z]+')\n",
    "    words = prog.findall(string.lower())\n",
    "    \n",
    "    stopwords = nltk.corpus.stopwords.words('russian')\n",
    "    words = [w for w in words if w not in stopwords]\n",
    "    functionalPos = {'CONJ', 'PRCL'}\n",
    "    words = [w for w, pos in nltk.pos_tag(words, lang='rus') if pos not in functionalPos]\n",
    "    stemmer = SnowballStemmer('russian')\n",
    "    return ' '.join(list(map(stemmer.stem, words)))"
   ]
  },
  {
   "cell_type": "code",
   "execution_count": 14,
   "metadata": {},
   "outputs": [],
   "source": [
    "#kaspi['Отзывы'] = kaspi['Отзывы'].apply(preprocess_text)\n",
    "kaspi['Отзывы'] = kaspi['Отзывы'].apply(cleanText)"
   ]
  },
  {
   "cell_type": "code",
   "execution_count": 15,
   "metadata": {},
   "outputs": [
    {
     "data": {
      "text/html": [
       "<div>\n",
       "<style scoped>\n",
       "    .dataframe tbody tr th:only-of-type {\n",
       "        vertical-align: middle;\n",
       "    }\n",
       "\n",
       "    .dataframe tbody tr th {\n",
       "        vertical-align: top;\n",
       "    }\n",
       "\n",
       "    .dataframe thead th {\n",
       "        text-align: right;\n",
       "    }\n",
       "</style>\n",
       "<table border=\"1\" class=\"dataframe\">\n",
       "  <thead>\n",
       "    <tr style=\"text-align: right;\">\n",
       "      <th></th>\n",
       "      <th>Название продукта</th>\n",
       "      <th>Рейтинг</th>\n",
       "      <th>Отзывы</th>\n",
       "    </tr>\n",
       "  </thead>\n",
       "  <tbody>\n",
       "    <tr>\n",
       "      <th>0</th>\n",
       "      <td>Смарт-часы Xiaomi Amazfit Bip Red</td>\n",
       "      <td>5</td>\n",
       "      <td>цен качеств соответств отличн качеств пластик ...</td>\n",
       "    </tr>\n",
       "    <tr>\n",
       "      <th>1</th>\n",
       "      <td>Смарт-часы Xiaomi Amazfit Bip Red</td>\n",
       "      <td>4</td>\n",
       "      <td>держ заряд батар недел польз держ бюджетн вари...</td>\n",
       "    </tr>\n",
       "    <tr>\n",
       "      <th>2</th>\n",
       "      <td>Смарт-часы Xiaomi Amazfit Bip Red</td>\n",
       "      <td>5</td>\n",
       "      <td>красив удобн информативн подключен mi fit приш...</td>\n",
       "    </tr>\n",
       "    <tr>\n",
       "      <th>3</th>\n",
       "      <td>Смарт-часы Xiaomi Amazfit Bip Red</td>\n",
       "      <td>5</td>\n",
       "      <td>час реальн рекоменд всем</td>\n",
       "    </tr>\n",
       "    <tr>\n",
       "      <th>4</th>\n",
       "      <td>Смарт-часы Xiaomi Amazfit Bip Red</td>\n",
       "      <td>5</td>\n",
       "      <td>брал подарок обладательниц час довольн полезн ...</td>\n",
       "    </tr>\n",
       "    <tr>\n",
       "      <th>...</th>\n",
       "      <td>...</td>\n",
       "      <td>...</td>\n",
       "      <td>...</td>\n",
       "    </tr>\n",
       "    <tr>\n",
       "      <th>11634</th>\n",
       "      <td>Браслет Xiaomi Mi Band 3 черный</td>\n",
       "      <td>2</td>\n",
       "      <td>капсул зафиксирова ремешк сыроват прошивк поль...</td>\n",
       "    </tr>\n",
       "    <tr>\n",
       "      <th>11635</th>\n",
       "      <td>Браслет Xiaomi Mi Band 3 черный</td>\n",
       "      <td>1</td>\n",
       "      <td>очен расстро</td>\n",
       "    </tr>\n",
       "    <tr>\n",
       "      <th>11636</th>\n",
       "      <td>Браслет Xiaomi Mi Band 3 черный</td>\n",
       "      <td>3</td>\n",
       "      <td>качеств хорош непромока неудобн остальн</td>\n",
       "    </tr>\n",
       "    <tr>\n",
       "      <th>11637</th>\n",
       "      <td>Браслет Xiaomi Mi Band 3 черный</td>\n",
       "      <td>3</td>\n",
       "      <td>уведомлен мессенджер выход ватсап телеграмм см...</td>\n",
       "    </tr>\n",
       "    <tr>\n",
       "      <th>11638</th>\n",
       "      <td>Браслет Xiaomi Mi Band 3 черный</td>\n",
       "      <td>2</td>\n",
       "      <td>понрав невозможн подключ смартфон</td>\n",
       "    </tr>\n",
       "  </tbody>\n",
       "</table>\n",
       "<p>11639 rows × 3 columns</p>\n",
       "</div>"
      ],
      "text/plain": [
       "                       Название продукта  Рейтинг  \\\n",
       "0      Смарт-часы Xiaomi Amazfit Bip Red        5   \n",
       "1      Смарт-часы Xiaomi Amazfit Bip Red        4   \n",
       "2      Смарт-часы Xiaomi Amazfit Bip Red        5   \n",
       "3      Смарт-часы Xiaomi Amazfit Bip Red        5   \n",
       "4      Смарт-часы Xiaomi Amazfit Bip Red        5   \n",
       "...                                  ...      ...   \n",
       "11634    Браслет Xiaomi Mi Band 3 черный        2   \n",
       "11635    Браслет Xiaomi Mi Band 3 черный        1   \n",
       "11636    Браслет Xiaomi Mi Band 3 черный        3   \n",
       "11637    Браслет Xiaomi Mi Band 3 черный        3   \n",
       "11638    Браслет Xiaomi Mi Band 3 черный        2   \n",
       "\n",
       "                                                  Отзывы  \n",
       "0      цен качеств соответств отличн качеств пластик ...  \n",
       "1      держ заряд батар недел польз держ бюджетн вари...  \n",
       "2      красив удобн информативн подключен mi fit приш...  \n",
       "3                               час реальн рекоменд всем  \n",
       "4      брал подарок обладательниц час довольн полезн ...  \n",
       "...                                                  ...  \n",
       "11634  капсул зафиксирова ремешк сыроват прошивк поль...  \n",
       "11635                                       очен расстро  \n",
       "11636            качеств хорош непромока неудобн остальн  \n",
       "11637  уведомлен мессенджер выход ватсап телеграмм см...  \n",
       "11638                  понрав невозможн подключ смартфон  \n",
       "\n",
       "[11639 rows x 3 columns]"
      ]
     },
     "execution_count": 15,
     "metadata": {},
     "output_type": "execute_result"
    }
   ],
   "source": [
    "kaspi"
   ]
  },
  {
   "cell_type": "code",
   "execution_count": 16,
   "metadata": {},
   "outputs": [],
   "source": [
    "kaspi.Рейтинг = kaspi.Рейтинг.apply(pd.to_numeric)"
   ]
  },
  {
   "cell_type": "code",
   "execution_count": 17,
   "metadata": {},
   "outputs": [
    {
     "data": {
      "text/html": [
       "<div>\n",
       "<style scoped>\n",
       "    .dataframe tbody tr th:only-of-type {\n",
       "        vertical-align: middle;\n",
       "    }\n",
       "\n",
       "    .dataframe tbody tr th {\n",
       "        vertical-align: top;\n",
       "    }\n",
       "\n",
       "    .dataframe thead th {\n",
       "        text-align: right;\n",
       "    }\n",
       "</style>\n",
       "<table border=\"1\" class=\"dataframe\">\n",
       "  <thead>\n",
       "    <tr style=\"text-align: right;\">\n",
       "      <th></th>\n",
       "      <th>Название продукта</th>\n",
       "      <th>Рейтинг</th>\n",
       "      <th>Отзывы</th>\n",
       "      <th>sentiment</th>\n",
       "    </tr>\n",
       "  </thead>\n",
       "  <tbody>\n",
       "    <tr>\n",
       "      <th>0</th>\n",
       "      <td>Смарт-часы Xiaomi Amazfit Bip Red</td>\n",
       "      <td>5</td>\n",
       "      <td>цен качеств соответств отличн качеств пластик ...</td>\n",
       "      <td>1</td>\n",
       "    </tr>\n",
       "    <tr>\n",
       "      <th>1</th>\n",
       "      <td>Смарт-часы Xiaomi Amazfit Bip Red</td>\n",
       "      <td>4</td>\n",
       "      <td>держ заряд батар недел польз держ бюджетн вари...</td>\n",
       "      <td>1</td>\n",
       "    </tr>\n",
       "    <tr>\n",
       "      <th>2</th>\n",
       "      <td>Смарт-часы Xiaomi Amazfit Bip Red</td>\n",
       "      <td>5</td>\n",
       "      <td>красив удобн информативн подключен mi fit приш...</td>\n",
       "      <td>1</td>\n",
       "    </tr>\n",
       "    <tr>\n",
       "      <th>3</th>\n",
       "      <td>Смарт-часы Xiaomi Amazfit Bip Red</td>\n",
       "      <td>5</td>\n",
       "      <td>час реальн рекоменд всем</td>\n",
       "      <td>1</td>\n",
       "    </tr>\n",
       "    <tr>\n",
       "      <th>4</th>\n",
       "      <td>Смарт-часы Xiaomi Amazfit Bip Red</td>\n",
       "      <td>5</td>\n",
       "      <td>брал подарок обладательниц час довольн полезн ...</td>\n",
       "      <td>1</td>\n",
       "    </tr>\n",
       "    <tr>\n",
       "      <th>...</th>\n",
       "      <td>...</td>\n",
       "      <td>...</td>\n",
       "      <td>...</td>\n",
       "      <td>...</td>\n",
       "    </tr>\n",
       "    <tr>\n",
       "      <th>11634</th>\n",
       "      <td>Браслет Xiaomi Mi Band 3 черный</td>\n",
       "      <td>2</td>\n",
       "      <td>капсул зафиксирова ремешк сыроват прошивк поль...</td>\n",
       "      <td>0</td>\n",
       "    </tr>\n",
       "    <tr>\n",
       "      <th>11635</th>\n",
       "      <td>Браслет Xiaomi Mi Band 3 черный</td>\n",
       "      <td>1</td>\n",
       "      <td>очен расстро</td>\n",
       "      <td>0</td>\n",
       "    </tr>\n",
       "    <tr>\n",
       "      <th>11636</th>\n",
       "      <td>Браслет Xiaomi Mi Band 3 черный</td>\n",
       "      <td>3</td>\n",
       "      <td>качеств хорош непромока неудобн остальн</td>\n",
       "      <td>0</td>\n",
       "    </tr>\n",
       "    <tr>\n",
       "      <th>11637</th>\n",
       "      <td>Браслет Xiaomi Mi Band 3 черный</td>\n",
       "      <td>3</td>\n",
       "      <td>уведомлен мессенджер выход ватсап телеграмм см...</td>\n",
       "      <td>0</td>\n",
       "    </tr>\n",
       "    <tr>\n",
       "      <th>11638</th>\n",
       "      <td>Браслет Xiaomi Mi Band 3 черный</td>\n",
       "      <td>2</td>\n",
       "      <td>понрав невозможн подключ смартфон</td>\n",
       "      <td>0</td>\n",
       "    </tr>\n",
       "  </tbody>\n",
       "</table>\n",
       "<p>11639 rows × 4 columns</p>\n",
       "</div>"
      ],
      "text/plain": [
       "                       Название продукта  Рейтинг  \\\n",
       "0      Смарт-часы Xiaomi Amazfit Bip Red        5   \n",
       "1      Смарт-часы Xiaomi Amazfit Bip Red        4   \n",
       "2      Смарт-часы Xiaomi Amazfit Bip Red        5   \n",
       "3      Смарт-часы Xiaomi Amazfit Bip Red        5   \n",
       "4      Смарт-часы Xiaomi Amazfit Bip Red        5   \n",
       "...                                  ...      ...   \n",
       "11634    Браслет Xiaomi Mi Band 3 черный        2   \n",
       "11635    Браслет Xiaomi Mi Band 3 черный        1   \n",
       "11636    Браслет Xiaomi Mi Band 3 черный        3   \n",
       "11637    Браслет Xiaomi Mi Band 3 черный        3   \n",
       "11638    Браслет Xiaomi Mi Band 3 черный        2   \n",
       "\n",
       "                                                  Отзывы  sentiment  \n",
       "0      цен качеств соответств отличн качеств пластик ...          1  \n",
       "1      держ заряд батар недел польз держ бюджетн вари...          1  \n",
       "2      красив удобн информативн подключен mi fit приш...          1  \n",
       "3                               час реальн рекоменд всем          1  \n",
       "4      брал подарок обладательниц час довольн полезн ...          1  \n",
       "...                                                  ...        ...  \n",
       "11634  капсул зафиксирова ремешк сыроват прошивк поль...          0  \n",
       "11635                                       очен расстро          0  \n",
       "11636            качеств хорош непромока неудобн остальн          0  \n",
       "11637  уведомлен мессенджер выход ватсап телеграмм см...          0  \n",
       "11638                  понрав невозможн подключ смартфон          0  \n",
       "\n",
       "[11639 rows x 4 columns]"
      ]
     },
     "execution_count": 17,
     "metadata": {},
     "output_type": "execute_result"
    }
   ],
   "source": [
    "def sentiment(n):\n",
    "    return 1 if n >= 4 else 0\n",
    "kaspi['sentiment'] = kaspi['Рейтинг'].apply(sentiment)\n",
    "kaspi"
   ]
  },
  {
   "cell_type": "code",
   "execution_count": 18,
   "metadata": {},
   "outputs": [],
   "source": [
    "X = kaspi['Отзывы']\n",
    "y = kaspi['sentiment']"
   ]
  },
  {
   "cell_type": "code",
   "execution_count": 19,
   "metadata": {},
   "outputs": [],
   "source": [
    "X_train, X_test, y_train, y_test = train_test_split(X, y, random_state=0)"
   ]
  },
  {
   "cell_type": "markdown",
   "metadata": {},
   "source": [
    "# Logistic Regression"
   ]
  },
  {
   "cell_type": "code",
   "execution_count": 20,
   "metadata": {},
   "outputs": [],
   "source": [
    "cv = CountVectorizer()\n",
    "ctmTr = cv.fit_transform(X_train)\n",
    "X_test_dtm = cv.transform(X_test)"
   ]
  },
  {
   "cell_type": "code",
   "execution_count": 21,
   "metadata": {},
   "outputs": [
    {
     "data": {
      "text/plain": [
       "LogisticRegression()"
      ]
     },
     "execution_count": 21,
     "metadata": {},
     "output_type": "execute_result"
    }
   ],
   "source": [
    "model = LogisticRegression()\n",
    "model.fit(ctmTr, y_train)"
   ]
  },
  {
   "cell_type": "code",
   "execution_count": 22,
   "metadata": {},
   "outputs": [],
   "source": [
    "y_pred_class = model.predict(X_test_dtm)"
   ]
  },
  {
   "cell_type": "code",
   "execution_count": 23,
   "metadata": {},
   "outputs": [
    {
     "data": {
      "text/plain": [
       "0.9481099656357388"
      ]
     },
     "execution_count": 23,
     "metadata": {},
     "output_type": "execute_result"
    }
   ],
   "source": [
    "accuracy_score(y_test, y_pred_class)"
   ]
  },
  {
   "cell_type": "code",
   "execution_count": 24,
   "metadata": {},
   "outputs": [
    {
     "name": "stdout",
     "output_type": "stream",
     "text": [
      "Classification Report : \n",
      "              precision    recall  f1-score   support\n",
      "\n",
      "           0       0.67      0.25      0.37       173\n",
      "           1       0.95      0.99      0.97      2737\n",
      "\n",
      "    accuracy                           0.95      2910\n",
      "   macro avg       0.81      0.62      0.67      2910\n",
      "weighted avg       0.94      0.95      0.94      2910\n",
      "\n"
     ]
    }
   ],
   "source": [
    "Z = model.predict(X_test_dtm)\n",
    "cm = confusion_matrix(y_test, Z)\n",
    "cm\n",
    "\n",
    "print ('Classification Report : ') \n",
    "print (classification_report(y_test, Z))"
   ]
  },
  {
   "cell_type": "markdown",
   "metadata": {},
   "source": [
    "# Baseline"
   ]
  },
  {
   "cell_type": "code",
   "execution_count": 25,
   "metadata": {},
   "outputs": [
    {
     "data": {
      "text/plain": [
       "Pipeline(steps=[('vectorizer', TfidfVectorizer()), ('classifier', LinearSVC())])"
      ]
     },
     "execution_count": 25,
     "metadata": {},
     "output_type": "execute_result"
    }
   ],
   "source": [
    "clf_pipeline = Pipeline(\n",
    "            [(\"vectorizer\", TfidfVectorizer()), # Prod feature: tokenizer=cleanText\n",
    "            (\"classifier\", LinearSVC())]\n",
    "        )\n",
    "\n",
    "clf_pipeline.fit(X_train, y_train)"
   ]
  },
  {
   "cell_type": "code",
   "execution_count": 26,
   "metadata": {},
   "outputs": [
    {
     "data": {
      "image/png": "[encoded data removed]",
      "text/plain": [
       "<Figure size 504x504 with 2 Axes>"
      ]
     },
     "metadata": {
      "needs_background": "light"
     },
     "output_type": "display_data"
    }
   ],
   "source": [
    "cm = metrics.confusion_matrix(y_test, clf_pipeline.predict(X_test))\n",
    "\n",
    "def plotConfusionMatrix(cm):\n",
    "    fig = plt.figure(figsize=(7,7))\n",
    "    sns.heatmap(cm, annot=True, fmt=\"d\")\n",
    "    plt.title('Confusion Matrix')\n",
    "    plt.ylabel('True label')\n",
    "    plt.xlabel('Predicted label')\n",
    "    return None\n",
    "\n",
    "plotConfusionMatrix(cm)"
   ]
  },
  {
   "cell_type": "code",
   "execution_count": 27,
   "metadata": {},
   "outputs": [
    {
     "name": "stdout",
     "output_type": "stream",
     "text": [
      "              precision    recall  f1-score   support\n",
      "\n",
      "           0       0.69      0.32      0.44       173\n",
      "           1       0.96      0.99      0.97      2737\n",
      "\n",
      "    accuracy                           0.95      2910\n",
      "   macro avg       0.83      0.66      0.71      2910\n",
      "weighted avg       0.94      0.95      0.94      2910\n",
      "\n"
     ]
    }
   ],
   "source": [
    "print(metrics.classification_report(y_test, clf_pipeline.predict(X_test)))\n",
    "f1_base = metrics.f1_score(y_test, clf_pipeline.predict(X_test))"
   ]
  },
  {
   "cell_type": "markdown",
   "metadata": {},
   "source": [
    "# Randomized Search CV on TfidfVectorizer and LogisticRegression"
   ]
  },
  {
   "cell_type": "code",
   "execution_count": 28,
   "metadata": {},
   "outputs": [],
   "source": [
    "parameters = {'vectorizer__ngram_range': [(1, 2),(1, 3)],\n",
    "              'vectorizer__min_df': [0.,.2,.4,.6,.8,1],\n",
    "              'classifier__penalty': ('l1','l2'),\n",
    "              'classifier__C': (range(1,10,2)),\n",
    "             }"
   ]
  },
  {
   "cell_type": "code",
   "execution_count": 29,
   "metadata": {},
   "outputs": [],
   "source": [
    "clf_pipeline_LogitReg = Pipeline(\n",
    "            [(\"vectorizer\", TfidfVectorizer()),\n",
    "            (\"classifier\", LogisticRegression())]\n",
    "        )"
   ]
  },
  {
   "cell_type": "code",
   "execution_count": 30,
   "metadata": {},
   "outputs": [],
   "source": [
    "def plotROC(y_test, probs, titl=''):\n",
    "    if titl!='':\n",
    "        titl = ' ('+titl+')' \n",
    "    fpr, tpr, threshold = metrics.roc_curve(y_test, probs)\n",
    "    roc_auc = metrics.auc(fpr, tpr)\n",
    "    plt.title('Receiver Operating Characteristic'+titl)\n",
    "    plt.plot(fpr, tpr, 'b', label = 'AUC = %0.5f' % roc_auc)\n",
    "    plt.legend(loc = 'lower right')\n",
    "    plt.plot([0, 1], [0, 1],'r--')\n",
    "    plt.xlim([0, 1])\n",
    "    plt.ylim([0, 1])\n",
    "    plt.ylabel('True Positive Rate')\n",
    "    plt.xlabel('False Positive Rate')\n",
    "    plt.show()\n",
    "    return None"
   ]
  },
  {
   "cell_type": "code",
   "execution_count": 31,
   "metadata": {},
   "outputs": [
    {
     "data": {
      "image/png": "[encoded data removed]",
      "text/plain": [
       "<Figure size 432x288 with 1 Axes>"
      ]
     },
     "metadata": {
      "needs_background": "light"
     },
     "output_type": "display_data"
    },
    {
     "data": {
      "image/png": "[encoded data removed]",
      "text/plain": [
       "<Figure size 432x288 with 1 Axes>"
      ]
     },
     "metadata": {
      "needs_background": "light"
     },
     "output_type": "display_data"
    }
   ],
   "source": [
    "rndgs_clf_LogitReg = RandomizedSearchCV(clf_pipeline_LogitReg, parameters, scoring='f1', cv = 4, n_jobs=-1)\n",
    "rndgs_clf_LogitReg.fit(X_train, y_train)\n",
    "\n",
    "probs = rndgs_clf_LogitReg.predict_proba(X_train)[:,1]\n",
    "plotROC(y_train, probs, 'Train')\n",
    "\n",
    "probs = rndgs_clf_LogitReg.predict_proba(X_test)[:,1]\n",
    "plotROC(y_test, probs, 'Test')"
   ]
  },
  {
   "cell_type": "code",
   "execution_count": 32,
   "metadata": {},
   "outputs": [
    {
     "data": {
      "image/png": "[encoded data removed]",
      "text/plain": [
       "<Figure size 504x504 with 2 Axes>"
      ]
     },
     "metadata": {
      "needs_background": "light"
     },
     "output_type": "display_data"
    }
   ],
   "source": [
    "plotConfusionMatrix(metrics.confusion_matrix(y_test, rndgs_clf_LogitReg.predict(X_test)))"
   ]
  },
  {
   "cell_type": "code",
   "execution_count": 33,
   "metadata": {},
   "outputs": [
    {
     "name": "stdout",
     "output_type": "stream",
     "text": [
      "              precision    recall  f1-score   support\n",
      "\n",
      "           0       0.50      0.02      0.03       173\n",
      "           1       0.94      1.00      0.97      2737\n",
      "\n",
      "    accuracy                           0.94      2910\n",
      "   macro avg       0.72      0.51      0.50      2910\n",
      "weighted avg       0.92      0.94      0.91      2910\n",
      "\n"
     ]
    }
   ],
   "source": [
    "print(metrics.classification_report(y_test, rndgs_clf_LogitReg.predict(X_test)))\n",
    "f1_rndLogR = metrics.f1_score(y_test, rndgs_clf_LogitReg.predict(X_test))"
   ]
  }
 ],
 "metadata": {
  "kernelspec": {
   "display_name": "Python 3",
   "language": "python",
   "name": "python3"
  },
  "language_info": {
   "codemirror_mode": {
    "name": "ipython",
    "version": 3
   },
   "file_extension": ".py",
   "mimetype": "text/x-python",
   "name": "python",
   "nbconvert_exporter": "python",
   "pygments_lexer": "ipython3",
   "version": "3.8.3"
  }
 },
 "nbformat": 4,
 "nbformat_minor": 4
}
